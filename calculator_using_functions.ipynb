{
  "nbformat": 4,
  "nbformat_minor": 0,
  "metadata": {
    "colab": {
      "provenance": []
    },
    "kernelspec": {
      "name": "python3",
      "display_name": "Python 3"
    },
    "language_info": {
      "name": "python"
    }
  },
  "cells": [
    {
      "cell_type": "code",
      "execution_count": 4,
      "metadata": {
        "id": "cYYtF0xTGyup"
      },
      "outputs": [],
      "source": [
        "def add (a:int ,b:int) -> int:\n",
        " return a+b"
      ]
    },
    {
      "cell_type": "code",
      "source": [
        " def sub (a:int ,b:int) -> int:\n",
        "  return a-b"
      ],
      "metadata": {
        "id": "gkG8e2SGIDdS"
      },
      "execution_count": 5,
      "outputs": []
    },
    {
      "cell_type": "code",
      "source": [
        "def mul(a:int ,b:int) -> int:\n",
        " return a*b"
      ],
      "metadata": {
        "id": "aU_vKAvNIJjg"
      },
      "execution_count": 6,
      "outputs": []
    },
    {
      "cell_type": "code",
      "source": [
        "def div (a:int ,b:int) -> float:\n",
        " return a/b"
      ],
      "metadata": {
        "id": "koHn-Ts3IUiY"
      },
      "execution_count": 15,
      "outputs": []
    },
    {
      "cell_type": "code",
      "source": [
        "a=int(input(\"Enter first no.\"))\n",
        "b=int(input(\"Enter 2nd no.\"))\n",
        "c=int(input(\"Press 1 for addition \\nPress 2 for subtraction \\nPress 3 for multiplication \\nPress 4 for division\\n\"))"
      ],
      "metadata": {
        "colab": {
          "base_uri": "https://localhost:8080/"
        },
        "id": "UzjWzBHIIdi4",
        "outputId": "94c095be-7b94-4fe8-b163-a7a26198710e"
      },
      "execution_count": 13,
      "outputs": [
        {
          "name": "stdout",
          "output_type": "stream",
          "text": [
            "Enter first no.3222\n",
            "Enter 2nd no.56\n",
            "Press 1 for addition \n",
            "Press 2 for subtraction \n",
            "Press 3 for multiplication \n",
            "Press 4 for division\n",
            "4\n"
          ]
        }
      ]
    },
    {
      "cell_type": "code",
      "source": [
        "if c==1:\n",
        "  print(f\"the sum of {a} and {b} is { add(a,b) }\")\n",
        "elif c==2:\n",
        "  print(f\"the subtraction of {a} and {b} is { sub(a,b)}\")\n",
        "elif c==3:\n",
        "  print(f\"the multiplication of {a} and {b} is { mul(a,b)}\")\n",
        "elif c==4:\n",
        "  print(f\"the division of {a} by {b} is { div(a,b)}\")\n",
        "else:\n",
        "  print(\"Error! Enter correct number.\")"
      ],
      "metadata": {
        "colab": {
          "base_uri": "https://localhost:8080/"
        },
        "id": "B0-nsslTKm2Q",
        "outputId": "c3a70cec-f528-4255-d04a-ab96bb2b7dd1"
      },
      "execution_count": 16,
      "outputs": [
        {
          "output_type": "stream",
          "name": "stdout",
          "text": [
            "the division of 3222 by 56 is 57.535714285714285\n"
          ]
        }
      ]
    }
  ]
}