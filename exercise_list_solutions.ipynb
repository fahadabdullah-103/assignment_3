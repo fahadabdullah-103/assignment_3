{
 "cells": [
  {
   "cell_type": "code",
   "execution_count": null,
   "metadata": {},
   "outputs": [],
   "source": [
    "names = [\"Saad\",\"Fahad\",\"Abdullah\"]\n",
    "for i in range(0,len(names)):\n",
    "    print(names[i])"
   ]
  },
  {
   "cell_type": "code",
   "execution_count": null,
   "metadata": {},
   "outputs": [],
   "source": [
    "for i in range(0,len(names)):\n",
    "    print(f\"Hello {names[i]}, Have a great day !\")"
   ]
  },
  {
   "cell_type": "code",
   "execution_count": null,
   "metadata": {},
   "outputs": [],
   "source": [
    "cars = [\"Audi\", \"Mercedes\",\"BMW\",\"Honda\",\"Tesla\"]\n",
    "print(f\"I would like to own a {cars[1]} car.\")"
   ]
  },
  {
   "cell_type": "code",
   "execution_count": null,
   "metadata": {},
   "outputs": [],
   "source": [
    "for i in range(0,len(names)):\n",
    "    print(f\"Dear {names[i]}, I would be honored if you could join me for dinner.\")\n",
    "print(f\"Unfortunately, {names[1]} can't make it to dinner.\")\n",
    "names[1]=\"Ali\"\n",
    "for i in range(0,len(names)):\n",
    "    print(f\"Dear {names[i]}, I would be honored if you could join me for dinner.\")"
   ]
  },
  {
   "cell_type": "code",
   "execution_count": null,
   "metadata": {},
   "outputs": [],
   "source": [
    "invitation_names = [\"Saad\",\"Fahad\",\"Abdullah\"]\n",
    "invitation_names.insert(0,\"Hamza\")\n",
    "invitation_names.insert(2,\"Zeeshan\")\n",
    "invitation_names.append(\"Talal\")\n",
    "print(invitation_names)\n",
    "for i in range(0,len(invitation_names)):\n",
    "    print(f\"Dear {invitation_names[i]}, I would be honored if you could join me for dinner.\")\n",
    "\n"
   ]
  },
  {
   "cell_type": "code",
   "execution_count": null,
   "metadata": {},
   "outputs": [],
   "source": [
    "cancel_names= []\n",
    "cancel_names.append(invitation_names.pop())\n",
    "cancel_names.append(invitation_names.pop())\n",
    "cancel_names.append(invitation_names.pop())\n",
    "cancel_names.append(invitation_names.pop())\n",
    "\n",
    "print(f\"Invitation:{invitation_names}\")\n",
    "print(f\"Remove names :{cancel_names}\")\n",
    "\n",
    "for i in range(0,len(cancel_names)):\n",
    "    print(f\"Sorry {cancel_names[i]}, you can’t invite them to dinner.\")\n",
    "del invitation_names[:]\n",
    "print(f\"Invitation:{invitation_names}\")\n"
   ]
  },
  {
   "cell_type": "code",
   "execution_count": null,
   "metadata": {},
   "outputs": [],
   "source": [
    "location = [\"Barcelona\",\"Paris\",\"New York\",\"London\",\"Turkey\"]\n",
    "print(location)\n",
    "print(sorted(location))\n",
    "print(location)\n",
    "location.reverse()\n",
    "print(location)"
   ]
  },
  {
   "cell_type": "code",
   "execution_count": null,
   "metadata": {},
   "outputs": [],
   "source": [
    "location1 = [\"Barcelona\",\"Paris\",\"New York\",\"London\",\"Turkey\"]\n",
    "print(location1)\n",
    "location1.sort()\n",
    "print(location1)\n",
    "location.reverse()\n",
    "print(location1)"
   ]
  },
  {
   "cell_type": "code",
   "execution_count": null,
   "metadata": {},
   "outputs": [],
   "source": [
    "cities = [\"Paris\", \"New York\", \"Tokyo\", \"London\", \"Sydney\"]\n",
    "print(cities)\n",
    "# Use append() to add a new city\n",
    "cities.append(\"Berlin\")\n",
    "print(\"After append:\", cities)\n",
    "# Use extend() to add multiple cities\n",
    "cities.extend([\"Madrid\", \"Rome\"])\n",
    "print(\"After extend:\", cities)\n",
    "# Use insert() to add a city at a specific position\n",
    "cities.insert(2, \"Dubai\")\n",
    "print(\"After insert:\", cities)\n",
    "# Use remove() to remove a specific city\n",
    "cities.remove(\"London\")\n",
    "print(\"After remove:\", cities)\n",
    "# Use pop() to remove and return the last city\n",
    "last_city = cities.pop()\n",
    "print(\"Removed city using pop():\", last_city)\n",
    "print(\"After pop:\", cities)\n",
    "# Use clear() to remove all cities\n",
    "cities.clear()\n",
    "print(\"After clear:\", cities)\n",
    "# Recreate the list for further methods\n",
    "cities = [\"Paris\", \"New York\", \"Tokyo\", \"London\", \"Sydney\"]\n",
    "# Use index() to find the position of a city\n",
    "position = cities.index(\"Tokyo\")\n",
    "print(\"Index of Tokyo:\", position)\n",
    "# Use count() to count the occurrences of a city\n",
    "city_count = cities.count(\"Paris\")\n",
    "print(\"Count of Paris:\", city_count)\n",
    "# Use sort() to sort the cities alphabetically\n",
    "cities.sort()\n",
    "print(\"After sort:\", cities)\n",
    "# Use reverse() to reverse the order of the cities\n",
    "cities.reverse()\n",
    "print(\"After reverse:\", cities)\n",
    "# Use copy() to create a shallow copy of the list\n",
    "cities_copy = cities.copy()\n",
    "print(\"Copy of cities list:\", cities_copy)\n"
   ]
  },
  {
   "cell_type": "code",
   "execution_count": null,
   "metadata": {},
   "outputs": [],
   "source": [
    "#Intentional Error\n",
    "cities = [\"Paris\", \"New York\", \"Tokyo\", \"London\", \"Sydney\"]\n",
    "print(cities[5])\n"
   ]
  }
 ],
 "metadata": {
  "kernelspec": {
   "display_name": "Python 3",
   "language": "python",
   "name": "python3"
  },
  "language_info": {
   "codemirror_mode": {
    "name": "ipython",
    "version": 3
   },
   "file_extension": ".py",
   "mimetype": "text/x-python",
   "name": "python",
   "nbconvert_exporter": "python",
   "pygments_lexer": "ipython3",
   "version": "3.12.5"
  }
 },
 "nbformat": 4,
 "nbformat_minor": 2
}
